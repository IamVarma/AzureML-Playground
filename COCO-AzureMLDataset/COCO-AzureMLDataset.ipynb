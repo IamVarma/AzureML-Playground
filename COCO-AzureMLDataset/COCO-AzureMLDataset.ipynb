{
 "cells": [
  {
   "cell_type": "code",
   "execution_count": 2,
   "metadata": {},
   "outputs": [
    {
     "name": "stdout",
     "output_type": "stream",
     "text": [
      "Beginning file download with wget module\n"
     ]
    },
    {
     "data": {
      "text/plain": [
       "'coco2jsonl.py'"
      ]
     },
     "execution_count": 2,
     "metadata": {},
     "output_type": "execute_result"
    }
   ],
   "source": [
    "import wget\n",
    "\n",
    "print('Beginning file download with wget module')\n",
    "\n",
    "url = 'https://raw.githubusercontent.com/Azure/azureml-examples/main/python-sdk/tutorials/automl-with-azureml/image-object-detection/coco2jsonl.py'\n",
    "wget.download(url, 'coco2jsonl.py')\n",
    "\n",
    "#The Coco2jsonl.py file is referred from https://github.com/Azure/azureml-examples/blob/main/python-sdk/tutorials/automl-with-azureml/image-object-detection/coco2jsonl.py"
   ]
  },
  {
   "cell_type": "code",
   "execution_count": 14,
   "metadata": {},
   "outputs": [
    {
     "name": "stdout",
     "output_type": "stream",
     "text": [
      "Converting for ObjectDetection\n",
      "Conversion completed. Converted 40 lines.\n"
     ]
    }
   ],
   "source": [
    "#Convert COCO dataset to JSONL supported by AzureML for AutoML Model training.\n",
    "!python coco2jsonl.py \\\n",
    "--input_coco_file_path \"./CustomVisionExport_Coco.json\" \\\n",
    "--output_dir \"./Coco/\" --output_file_name \"CustomVisionExport_Coco.jsonl\" \\\n",
    "--task_type \"ObjectDetection\" \\\n",
    "--base_url \"AmlDatastore://workspaceblobstore/customvisionImages/images/\""
   ]
  },
  {
   "cell_type": "code",
   "execution_count": 10,
   "metadata": {},
   "outputs": [],
   "source": [
    "#Uploading and Registering the Dataset with AzureML \n",
    "from azureml.core.authentication import InteractiveLoginAuthentication\n",
    "from azureml.core import Workspace\n",
    "\n",
    "interactive_auth = InteractiveLoginAuthentication(tenant_id=\"72f988bf-86f1-41af-91ab-2d7cd011db47\")\n",
    "ws = Workspace.get(name='<workspace-name>',\n",
    "            subscription_id='<sub-id>',\n",
    "            resource_group='<resource-group>',\n",
    "            location='<location>',\n",
    "            cloud='AzureCloud',\n",
    "            auth=interactive_auth\n",
    "            )\n"
   ]
  },
  {
   "cell_type": "code",
   "execution_count": 18,
   "metadata": {},
   "outputs": [
    {
     "name": "stdout",
     "output_type": "stream",
     "text": [
      "Uploading an estimated of 42 files\n",
      "Uploading C://Users//varmag//Documents//MyProjects//coco2CustomVision//Coco\\0.jpg\n",
      "Uploaded C://Users//varmag//Documents//MyProjects//coco2CustomVision//Coco\\0.jpg, 1 files out of an estimated total of 42\n",
      "Uploading C://Users//varmag//Documents//MyProjects//coco2CustomVision//Coco\\1.jpg\n",
      "Uploaded C://Users//varmag//Documents//MyProjects//coco2CustomVision//Coco\\1.jpg, 2 files out of an estimated total of 42\n",
      "Uploading C://Users//varmag//Documents//MyProjects//coco2CustomVision//Coco\\10.jpg\n",
      "Uploaded C://Users//varmag//Documents//MyProjects//coco2CustomVision//Coco\\10.jpg, 3 files out of an estimated total of 42\n",
      "Uploading C://Users//varmag//Documents//MyProjects//coco2CustomVision//Coco\\11.jpg\n",
      "Uploaded C://Users//varmag//Documents//MyProjects//coco2CustomVision//Coco\\11.jpg, 4 files out of an estimated total of 42\n",
      "Uploading C://Users//varmag//Documents//MyProjects//coco2CustomVision//Coco\\12.jpg\n",
      "Uploaded C://Users//varmag//Documents//MyProjects//coco2CustomVision//Coco\\12.jpg, 5 files out of an estimated total of 42\n",
      "Uploading C://Users//varmag//Documents//MyProjects//coco2CustomVision//Coco\\13.jpg\n",
      "Uploaded C://Users//varmag//Documents//MyProjects//coco2CustomVision//Coco\\13.jpg, 6 files out of an estimated total of 42\n",
      "Uploading C://Users//varmag//Documents//MyProjects//coco2CustomVision//Coco\\14.jpg\n",
      "Uploaded C://Users//varmag//Documents//MyProjects//coco2CustomVision//Coco\\14.jpg, 7 files out of an estimated total of 42\n",
      "Uploading C://Users//varmag//Documents//MyProjects//coco2CustomVision//Coco\\15.jpg\n",
      "Uploaded C://Users//varmag//Documents//MyProjects//coco2CustomVision//Coco\\15.jpg, 8 files out of an estimated total of 42\n",
      "Uploading C://Users//varmag//Documents//MyProjects//coco2CustomVision//Coco\\16.jpg\n",
      "Uploaded C://Users//varmag//Documents//MyProjects//coco2CustomVision//Coco\\16.jpg, 9 files out of an estimated total of 42\n",
      "Uploading C://Users//varmag//Documents//MyProjects//coco2CustomVision//Coco\\17.jpg\n",
      "Uploaded C://Users//varmag//Documents//MyProjects//coco2CustomVision//Coco\\17.jpg, 10 files out of an estimated total of 42\n",
      "Uploading C://Users//varmag//Documents//MyProjects//coco2CustomVision//Coco\\18.jpg\n",
      "Uploaded C://Users//varmag//Documents//MyProjects//coco2CustomVision//Coco\\18.jpg, 11 files out of an estimated total of 42\n",
      "Uploading C://Users//varmag//Documents//MyProjects//coco2CustomVision//Coco\\19.jpg\n",
      "Uploaded C://Users//varmag//Documents//MyProjects//coco2CustomVision//Coco\\19.jpg, 12 files out of an estimated total of 42\n",
      "Uploading C://Users//varmag//Documents//MyProjects//coco2CustomVision//Coco\\2.jpg\n",
      "Uploaded C://Users//varmag//Documents//MyProjects//coco2CustomVision//Coco\\2.jpg, 13 files out of an estimated total of 42\n",
      "Uploading C://Users//varmag//Documents//MyProjects//coco2CustomVision//Coco\\20.jpg\n",
      "Uploaded C://Users//varmag//Documents//MyProjects//coco2CustomVision//Coco\\20.jpg, 14 files out of an estimated total of 42\n",
      "Uploading C://Users//varmag//Documents//MyProjects//coco2CustomVision//Coco\\21.jpg\n",
      "Uploaded C://Users//varmag//Documents//MyProjects//coco2CustomVision//Coco\\21.jpg, 15 files out of an estimated total of 42\n",
      "Uploading C://Users//varmag//Documents//MyProjects//coco2CustomVision//Coco\\22.jpg\n",
      "Uploaded C://Users//varmag//Documents//MyProjects//coco2CustomVision//Coco\\22.jpg, 16 files out of an estimated total of 42\n",
      "Uploading C://Users//varmag//Documents//MyProjects//coco2CustomVision//Coco\\23.jpg\n",
      "Uploaded C://Users//varmag//Documents//MyProjects//coco2CustomVision//Coco\\23.jpg, 17 files out of an estimated total of 42\n",
      "Uploading C://Users//varmag//Documents//MyProjects//coco2CustomVision//Coco\\24.jpg\n",
      "Uploaded C://Users//varmag//Documents//MyProjects//coco2CustomVision//Coco\\24.jpg, 18 files out of an estimated total of 42\n",
      "Uploading C://Users//varmag//Documents//MyProjects//coco2CustomVision//Coco\\25.jpg\n",
      "Uploaded C://Users//varmag//Documents//MyProjects//coco2CustomVision//Coco\\25.jpg, 19 files out of an estimated total of 42\n",
      "Uploading C://Users//varmag//Documents//MyProjects//coco2CustomVision//Coco\\26.jpg\n",
      "Uploaded C://Users//varmag//Documents//MyProjects//coco2CustomVision//Coco\\26.jpg, 20 files out of an estimated total of 42\n",
      "Uploading C://Users//varmag//Documents//MyProjects//coco2CustomVision//Coco\\27.jpg\n",
      "Uploaded C://Users//varmag//Documents//MyProjects//coco2CustomVision//Coco\\27.jpg, 21 files out of an estimated total of 42\n",
      "Uploading C://Users//varmag//Documents//MyProjects//coco2CustomVision//Coco\\28.jpg\n",
      "Uploaded C://Users//varmag//Documents//MyProjects//coco2CustomVision//Coco\\28.jpg, 22 files out of an estimated total of 42\n",
      "Uploading C://Users//varmag//Documents//MyProjects//coco2CustomVision//Coco\\29.jpg\n",
      "Uploaded C://Users//varmag//Documents//MyProjects//coco2CustomVision//Coco\\29.jpg, 23 files out of an estimated total of 42\n",
      "Uploading C://Users//varmag//Documents//MyProjects//coco2CustomVision//Coco\\3.jpg\n",
      "Uploaded C://Users//varmag//Documents//MyProjects//coco2CustomVision//Coco\\3.jpg, 24 files out of an estimated total of 42\n",
      "Uploading C://Users//varmag//Documents//MyProjects//coco2CustomVision//Coco\\30.jpg\n",
      "Uploaded C://Users//varmag//Documents//MyProjects//coco2CustomVision//Coco\\30.jpg, 25 files out of an estimated total of 42\n",
      "Uploading C://Users//varmag//Documents//MyProjects//coco2CustomVision//Coco\\31.jpg\n",
      "Uploaded C://Users//varmag//Documents//MyProjects//coco2CustomVision//Coco\\31.jpg, 26 files out of an estimated total of 42\n",
      "Uploading C://Users//varmag//Documents//MyProjects//coco2CustomVision//Coco\\32.jpg\n",
      "Uploaded C://Users//varmag//Documents//MyProjects//coco2CustomVision//Coco\\32.jpg, 27 files out of an estimated total of 42\n",
      "Uploading C://Users//varmag//Documents//MyProjects//coco2CustomVision//Coco\\33.jpg\n",
      "Uploaded C://Users//varmag//Documents//MyProjects//coco2CustomVision//Coco\\33.jpg, 28 files out of an estimated total of 42\n",
      "Uploading C://Users//varmag//Documents//MyProjects//coco2CustomVision//Coco\\34.jpg\n",
      "Uploaded C://Users//varmag//Documents//MyProjects//coco2CustomVision//Coco\\34.jpg, 29 files out of an estimated total of 42\n",
      "Uploading C://Users//varmag//Documents//MyProjects//coco2CustomVision//Coco\\35.jpg\n",
      "Uploaded C://Users//varmag//Documents//MyProjects//coco2CustomVision//Coco\\35.jpg, 30 files out of an estimated total of 42\n",
      "Uploading C://Users//varmag//Documents//MyProjects//coco2CustomVision//Coco\\36.jpg\n",
      "Uploaded C://Users//varmag//Documents//MyProjects//coco2CustomVision//Coco\\36.jpg, 31 files out of an estimated total of 42\n",
      "Uploading C://Users//varmag//Documents//MyProjects//coco2CustomVision//Coco\\37.jpg\n",
      "Uploaded C://Users//varmag//Documents//MyProjects//coco2CustomVision//Coco\\37.jpg, 32 files out of an estimated total of 42\n",
      "Uploading C://Users//varmag//Documents//MyProjects//coco2CustomVision//Coco\\38.jpg\n",
      "Uploaded C://Users//varmag//Documents//MyProjects//coco2CustomVision//Coco\\38.jpg, 33 files out of an estimated total of 42\n",
      "Uploading C://Users//varmag//Documents//MyProjects//coco2CustomVision//Coco\\39.jpg\n",
      "Uploaded C://Users//varmag//Documents//MyProjects//coco2CustomVision//Coco\\39.jpg, 34 files out of an estimated total of 42\n",
      "Uploading C://Users//varmag//Documents//MyProjects//coco2CustomVision//Coco\\4.jpg\n",
      "Uploaded C://Users//varmag//Documents//MyProjects//coco2CustomVision//Coco\\4.jpg, 35 files out of an estimated total of 42\n",
      "Uploading C://Users//varmag//Documents//MyProjects//coco2CustomVision//Coco\\5.jpg\n",
      "Uploaded C://Users//varmag//Documents//MyProjects//coco2CustomVision//Coco\\5.jpg, 36 files out of an estimated total of 42\n",
      "Uploading C://Users//varmag//Documents//MyProjects//coco2CustomVision//Coco\\6.jpg\n",
      "Uploaded C://Users//varmag//Documents//MyProjects//coco2CustomVision//Coco\\6.jpg, 37 files out of an estimated total of 42\n",
      "Uploading C://Users//varmag//Documents//MyProjects//coco2CustomVision//Coco\\7.jpg\n",
      "Uploaded C://Users//varmag//Documents//MyProjects//coco2CustomVision//Coco\\7.jpg, 38 files out of an estimated total of 42\n",
      "Uploading C://Users//varmag//Documents//MyProjects//coco2CustomVision//Coco\\8.jpg\n",
      "Uploaded C://Users//varmag//Documents//MyProjects//coco2CustomVision//Coco\\8.jpg, 39 files out of an estimated total of 42\n",
      "Uploading C://Users//varmag//Documents//MyProjects//coco2CustomVision//Coco\\9.jpg\n",
      "Uploaded C://Users//varmag//Documents//MyProjects//coco2CustomVision//Coco\\9.jpg, 40 files out of an estimated total of 42\n",
      "Uploading C://Users//varmag//Documents//MyProjects//coco2CustomVision//Coco\\CustomVisionExport_Coco.json\n",
      "Uploaded C://Users//varmag//Documents//MyProjects//coco2CustomVision//Coco\\CustomVisionExport_Coco.json, 41 files out of an estimated total of 42\n",
      "Uploading C://Users//varmag//Documents//MyProjects//coco2CustomVision//Coco\\CustomVisionExport_Coco.jsonl\n",
      "Uploaded C://Users//varmag//Documents//MyProjects//coco2CustomVision//Coco\\CustomVisionExport_Coco.jsonl, 42 files out of an estimated total of 42\n",
      "Uploaded 42 files\n"
     ]
    },
    {
     "data": {
      "text/plain": [
       "$AZUREML_DATAREFERENCE_254aabd494ed476fbbc27aa5e8073932"
      ]
     },
     "execution_count": 18,
     "metadata": {},
     "output_type": "execute_result"
    }
   ],
   "source": [
    "# Retrieving default datastore that got automatically created when we setup a workspace\n",
    "ds = ws.get_default_datastore()\n",
    "ds.upload(src_dir=\"./Coco//\", target_path=\"customvisionImages/images\")"
   ]
  },
  {
   "cell_type": "code",
   "execution_count": 21,
   "metadata": {},
   "outputs": [
    {
     "name": "stderr",
     "output_type": "stream",
     "text": [
      "2022-02-17 09:58:26.032499 | ActivityCompleted: Activity=get_by_name, HowEnded=Failure, Duration=1245.44 [ms], Info = {'activity_id': 'f7c5e446-1378-4743-a3c7-a6fee50b2ff6', 'activity_name': 'get_by_name', 'activity_type': 'PublicApi', 'app_name': 'dataset', 'source': 'azureml.dataset', 'version': '1.38.0.post2', 'dataprepVersion': '', 'sparkVersion': '3.2.1', 'subscription': '', 'run_id': '', 'resource_group': '', 'workspace_name': '', 'experiment_id': '', 'location': '', 'completionStatus': 'Success', 'durationMs': 0.0}, Exception=UserErrorException; UserErrorException:\n",
      "\tMessage: Cannot find dataset registered with name \"CVSImagesTrainingDataset\" (version: None) in the workspace.\n",
      "\tInnerException None\n",
      "\tErrorResponse \n",
      "{\n",
      "    \"error\": {\n",
      "        \"code\": \"UserError\",\n",
      "        \"message\": \"Cannot find dataset registered with name \\\"CVSImagesTrainingDataset\\\" (version: None) in the workspace.\"\n",
      "    }\n",
      "}\n"
     ]
    }
   ],
   "source": [
    "# pip install azureml-dataset-runtime --upgrade\n",
    "from azureml.core import Dataset\n",
    "from azureml.data import DataType\n",
    "\n",
    "# get existing training dataset\n",
    "training_dataset_name = \"CVSImagesTrainingDataset\"\n",
    "if training_dataset_name in ws.datasets:\n",
    "    training_dataset = ws.datasets.get(training_dataset_name)\n",
    "    print(\"Found the training dataset\", training_dataset_name)\n",
    "else:\n",
    "    # create training dataset\n",
    "    training_dataset = Dataset.Tabular.from_json_lines_files(\n",
    "        path=ds.path(\"customvisionImages/images/CustomVisionExport_Coco.jsonl\"),\n",
    "        set_column_types={\"image_url\": DataType.to_stream(ds.workspace)},\n",
    "    )\n",
    "    training_dataset = training_dataset.register(\n",
    "        workspace=ws, name=training_dataset_name\n",
    "    )"
   ]
  }
 ],
 "metadata": {
  "interpreter": {
   "hash": "a1e46b962734b5bdd5018c2a27a84e3e4d88af85755b7fe58cb21f5d4d4cf12a"
  },
  "kernelspec": {
   "display_name": "Python 3.8.8 64-bit ('base': conda)",
   "language": "python",
   "name": "python3"
  },
  "language_info": {
   "codemirror_mode": {
    "name": "ipython",
    "version": 3
   },
   "file_extension": ".py",
   "mimetype": "text/x-python",
   "name": "python",
   "nbconvert_exporter": "python",
   "pygments_lexer": "ipython3",
   "version": "3.8.8"
  },
  "orig_nbformat": 4
 },
 "nbformat": 4,
 "nbformat_minor": 2
}
