{
  "cells": [
    {
      "cell_type": "code",
      "source": [
        "#!pip install --upgrade azureml-sdk azureml-dataprep matplotlib"
      ],
      "outputs": [],
      "execution_count": null,
      "metadata": {
        "jupyter": {
          "source_hidden": false,
          "outputs_hidden": false
        },
        "nteract": {
          "transient": {
            "deleting": false
          }
        },
        "gather": {
          "logged": 1631085587159
        }
      }
    },
    {
      "cell_type": "code",
      "source": [
        "#Get AzureML Workspace config\r\n",
        "#Setup environment using samples here: https://github.com/Azure/MachineLearningNotebooks/tree/master/setup-environment\r\n",
        "from azureml.core import Workspace, Dataset\r\n",
        "workspace = Workspace.from_config()\r\n",
        "#print(workspace)"
      ],
      "outputs": [],
      "execution_count": null,
      "metadata": {
        "gather": {
          "logged": 1631160577074
        },
        "jupyter": {
          "outputs_hidden": true
        }
      }
    },
    {
      "cell_type": "code",
      "source": [
        "#Avro files location pre-registered as a files dataset. Ensure the dataset path is of the format folder/** to pick up all partitions and folders inside.\r\n",
        "dataset_name=\"eventhub-capture-avro\"\r\n",
        "dataset = Dataset.get_by_name(workspace, name=dataset_name)\r\n",
        "print(dataset.name)\r\n"
      ],
      "outputs": [],
      "execution_count": null,
      "metadata": {
        "jupyter": {
          "source_hidden": false,
          "outputs_hidden": false
        },
        "nteract": {
          "transient": {
            "deleting": false
          }
        },
        "gather": {
          "logged": 1631086020135
        }
      }
    },
    {
      "cell_type": "code",
      "source": [
        "# mount dataset manually instead of using\r\n",
        "# with dataset.mount() as mount_context:\r\n",
        "import os\r\n",
        "mount_context=dataset.mount()\r\n",
        "mount_context.start()\r\n",
        "# See where we mounted the file dataset\r\n",
        "print(mount_context.mount_point)\r\n",
        "# List files in there\r\n",
        "print(os.listdir(mount_context.mount_point))"
      ],
      "outputs": [],
      "execution_count": null,
      "metadata": {
        "jupyter": {
          "source_hidden": false,
          "outputs_hidden": false
        },
        "nteract": {
          "transient": {
            "deleting": false
          }
        },
        "gather": {
          "logged": 1631095292772
        }
      }
    },
    {
      "cell_type": "code",
      "source": [
        "#Display Recursive - folder and files \r\n",
        "dataset_mount_folder = mount_context.mount_point\r\n",
        "for root,d_names,f_names in os.walk(dataset_mount_folder):\r\n",
        "\tprint(root, d_names, f_names)"
      ],
      "outputs": [],
      "execution_count": null,
      "metadata": {
        "jupyter": {
          "source_hidden": false,
          "outputs_hidden": false
        },
        "nteract": {
          "transient": {
            "deleting": false
          }
        },
        "gather": {
          "logged": 1631095302237
        }
      }
    },
    {
      "cell_type": "code",
      "source": [
        "#pickup a sample File\r\n",
        "files = os.listdir(os.path.join(dataset_mount_folder,'eventhub1/0/2021/09/08/06/35'))\r\n",
        "print(files)"
      ],
      "outputs": [],
      "execution_count": null,
      "metadata": {
        "jupyter": {
          "source_hidden": false,
          "outputs_hidden": false
        },
        "nteract": {
          "transient": {
            "deleting": false
          }
        },
        "gather": {
          "logged": 1631095338595
        }
      }
    },
    {
      "cell_type": "code",
      "source": [
        "# !pip install fastavro\r\n",
        "from fastavro import writer, reader, parse_schema\r\n",
        "\r\n",
        "with open(os.path.join(dataset_mount_folder,'eventhub1/0/2021/09/08/06/35/14.avro'), 'rb') as fo:\r\n",
        "    avro_reader = reader(fo)\r\n",
        "    records = [r for r in avro_reader]\r\n",
        "print(records)"
      ],
      "outputs": [],
      "execution_count": null,
      "metadata": {
        "jupyter": {
          "source_hidden": false,
          "outputs_hidden": false
        },
        "nteract": {
          "transient": {
            "deleting": false
          }
        },
        "gather": {
          "logged": 1631095081912
        }
      }
    },
    {
      "cell_type": "code",
      "source": [
        "#Add records to a pandas DataFrame\r\n",
        "import pandas as pd\r\n",
        "df = pd.DataFrame.from_records(records)\r\n",
        "df.head(2)"
      ],
      "outputs": [],
      "execution_count": null,
      "metadata": {
        "jupyter": {
          "source_hidden": false,
          "outputs_hidden": false
        },
        "nteract": {
          "transient": {
            "deleting": false
          }
        },
        "gather": {
          "logged": 1631095135593
        }
      }
    },
    {
      "cell_type": "code",
      "source": [
        "# Unmount dataset\r\n",
        "mount_context.stop()"
      ],
      "outputs": [],
      "execution_count": null,
      "metadata": {
        "jupyter": {
          "source_hidden": false,
          "outputs_hidden": false
        },
        "nteract": {
          "transient": {
            "deleting": false
          }
        },
        "gather": {
          "logged": 1631095247830
        }
      }
    }
  ],
  "metadata": {
    "kernelspec": {
      "name": "python3-azureml",
      "language": "python",
      "display_name": "Python 3.6 - AzureML"
    },
    "language_info": {
      "name": "python",
      "version": "3.6.9",
      "mimetype": "text/x-python",
      "codemirror_mode": {
        "name": "ipython",
        "version": 3
      },
      "pygments_lexer": "ipython3",
      "nbconvert_exporter": "python",
      "file_extension": ".py"
    },
    "kernel_info": {
      "name": "python3-azureml"
    },
    "microsoft": {
      "host": {
        "AzureML": {
          "notebookHasBeenCompleted": true
        }
      }
    },
    "nteract": {
      "version": "nteract-front-end@1.0.0"
    }
  },
  "nbformat": 4,
  "nbformat_minor": 2
}