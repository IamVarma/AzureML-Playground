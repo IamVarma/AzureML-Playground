{
  "cells": [
    {
      "cell_type": "code",
      "source": [
        "#!pip install --upgrade azureml-sdk azureml-dataprep matplotlib"
      ],
      "outputs": [],
      "execution_count": null,
      "metadata": {}
    },
    {
      "cell_type": "code",
      "source": [
        "#Get AzureML Workspace config\r\n",
        "#Setup environment using samples here: https://github.com/Azure/MachineLearningNotebooks/tree/master/setup-environment\r\n",
        "\r\n",
        "import azureml.core\r\n",
        "from azureml.core import Workspace, Experiment,Dataset\r\n",
        "from azureml.core.compute import ComputeTarget, AmlCompute\r\n",
        "from azureml.data.datapath import DataPath, DataPathComputeBinding\r\n",
        "\r\n",
        "from azureml.pipeline.core import PipelineParameter\r\n",
        "from azureml.pipeline.core import Pipeline, PipelineRun\r\n",
        "from azureml.pipeline.steps import PythonScriptStep\r\n"
      ],
      "outputs": [],
      "execution_count": null,
      "metadata": {
        "jupyter": {
          "source_hidden": false,
          "outputs_hidden": false
        },
        "nteract": {
          "transient": {
            "deleting": false
          }
        },
        "gather": {
          "logged": 1631117323688
        }
      }
    },
    {
      "cell_type": "code",
      "source": [
        "workspace = Workspace.from_config()\r\n",
        "#print(workspace)"
      ],
      "outputs": [],
      "execution_count": null,
      "metadata": {
        "jupyter": {
          "source_hidden": false,
          "outputs_hidden": false
        },
        "nteract": {
          "transient": {
            "deleting": false
          }
        },
        "gather": {
          "logged": 1631160132055
        }
      }
    },
    {
      "cell_type": "code",
      "source": [
        "#Avro files location pre-registered as a files dataset. Ensure the dataset path is of the format folder/** to pick up all partitions and folders inside.\r\n",
        "dataset_name=\"eventhub-capture-avro\"\r\n",
        "dataset = Dataset.get_by_name(workspace, name=dataset_name)\r\n",
        "print(dataset.name)"
      ],
      "outputs": [],
      "execution_count": null,
      "metadata": {
        "jupyter": {
          "source_hidden": false,
          "outputs_hidden": false
        },
        "nteract": {
          "transient": {
            "deleting": false
          }
        },
        "gather": {
          "logged": 1631112277354
        }
      }
    },
    {
      "cell_type": "code",
      "source": [
        "# Choose a name for your cluster.\r\n",
        "amlcompute_cluster_name = \"cpucluster\"\r\n",
        "\r\n",
        "found = False\r\n",
        "# Check if this compute target already exists in the workspace.\r\n",
        "cts = workspace.compute_targets\r\n",
        "if amlcompute_cluster_name in cts and cts[amlcompute_cluster_name].type == 'AmlCompute':\r\n",
        "    found = True\r\n",
        "    print('Found existing compute target.')\r\n",
        "    compute_target = cts[amlcompute_cluster_name]\r\n",
        "    \r\n",
        "if not found:\r\n",
        "    print('Creating a new compute target...')\r\n",
        "    provisioning_config = AmlCompute.provisioning_configuration(vm_size = \"STANDARD_D2_V2\", # for GPU, use \"STANDARD_NC6\"\r\n",
        "                                                                #vm_priority = 'lowpriority', # optional\r\n",
        "                                                                max_nodes = 1)\r\n",
        "\r\n",
        "    # Create the cluster.\r\n",
        "    compute_target = ComputeTarget.create(workspace, amlcompute_cluster_name, provisioning_config)\r\n",
        "    \r\n",
        "    # Can poll for a minimum number of nodes and for a specific timeout.\r\n",
        "    # If no min_node_count is provided, it will use the scale settings for the cluster.\r\n",
        "    compute_target.wait_for_completion(show_output = True, timeout_in_minutes = 10)"
      ],
      "outputs": [],
      "execution_count": null,
      "metadata": {
        "jupyter": {
          "source_hidden": false,
          "outputs_hidden": false
        },
        "nteract": {
          "transient": {
            "deleting": false
          }
        },
        "gather": {
          "logged": 1631112281278
        }
      }
    },
    {
      "cell_type": "code",
      "source": [
        "# Choose a name for the run history container in the workspace.\r\n",
        "experiment_name = 'avro-test-pipeline'\r\n",
        "source_directory  = '.'\r\n",
        "\r\n",
        "experiment = Experiment(workspace, experiment_name)\r\n",
        "experiment"
      ],
      "outputs": [],
      "execution_count": null,
      "metadata": {
        "jupyter": {
          "source_hidden": false,
          "outputs_hidden": false
        },
        "nteract": {
          "transient": {
            "deleting": false
          }
        },
        "gather": {
          "logged": 1631112938452
        }
      }
    },
    {
      "cell_type": "code",
      "source": [
        "%%writefile conda_env.yaml\r\n",
        "# Packages should have explicit versions \r\n",
        "# For demo purposes we let them loose\r\n",
        "# Also note the azureml-defaults package mentioned in  https://docs.microsoft.com/en-us/azure/machine-learning/concept-environments#types-of-environments\r\n",
        "name: custom-env\r\n",
        "dependencies:\r\n",
        "  - python=3.6\r\n",
        "  - scikit-learn\r\n",
        "  - pip\r\n",
        "  - pip:\r\n",
        "    - azureml-defaults\r\n",
        "    - pandas\r\n",
        "    - fastavro"
      ],
      "outputs": [],
      "execution_count": null,
      "metadata": {
        "jupyter": {
          "source_hidden": false,
          "outputs_hidden": false
        },
        "nteract": {
          "transient": {
            "deleting": false
          }
        }
      }
    },
    {
      "cell_type": "code",
      "source": [
        "from azureml.core import Environment\r\n",
        "from azureml.core.runconfig import RunConfiguration\r\n",
        "\r\n",
        "# Create an environment from the conda dependencies\r\n",
        "run_env = Environment.from_conda_specification(\"run-environment\",  'conda_env.yaml')\r\n",
        "# Create a run config that we will use in our steps\r\n",
        "run_config = RunConfiguration()\r\n",
        "run_config.environment = run_env"
      ],
      "outputs": [],
      "execution_count": null,
      "metadata": {
        "jupyter": {
          "source_hidden": false,
          "outputs_hidden": false
        },
        "nteract": {
          "transient": {
            "deleting": false
          }
        },
        "gather": {
          "logged": 1631115306968
        }
      }
    },
    {
      "cell_type": "code",
      "source": [
        "#Define Pipeline Parameter\r\n",
        "minute_pipeline_param = PipelineParameter(name=\"minute_param\", default_value='07')"
      ],
      "outputs": [],
      "execution_count": null,
      "metadata": {
        "jupyter": {
          "source_hidden": false,
          "outputs_hidden": false
        },
        "nteract": {
          "transient": {
            "deleting": false
          }
        },
        "gather": {
          "logged": 1631157800182
        }
      }
    },
    {
      "cell_type": "code",
      "source": [
        "process_avro_step = PythonScriptStep(\r\n",
        "    name='process_avro_step',\r\n",
        "    script_name=\"avro-mount-script.py\",\r\n",
        "    arguments=[\"--minute\", minute_pipeline_param],\r\n",
        "    inputs=[dataset.as_named_input('input_dataset')],\r\n",
        "    compute_target=compute_target, \r\n",
        "    source_directory=source_directory,\r\n",
        "    runconfig = run_config)\r\n",
        "print(\"process_avro_step created\")\r\n",
        "\r\n",
        "pipeline = Pipeline(workspace=workspace, steps=[process_avro_step])\r\n",
        "print(\"pipeline with the process_avro_step created\")"
      ],
      "outputs": [],
      "execution_count": null,
      "metadata": {
        "jupyter": {
          "source_hidden": false,
          "outputs_hidden": false
        },
        "nteract": {
          "transient": {
            "deleting": false
          }
        },
        "gather": {
          "logged": 1631157869916
        }
      }
    },
    {
      "cell_type": "code",
      "source": [
        "pipeline_run = experiment.submit(pipeline)\r\n",
        "print(\"Pipeline is submitted for execution\")"
      ],
      "outputs": [],
      "execution_count": null,
      "metadata": {
        "jupyter": {
          "source_hidden": false,
          "outputs_hidden": false
        },
        "nteract": {
          "transient": {
            "deleting": false
          }
        },
        "gather": {
          "logged": 1631157883300
        }
      }
    },
    {
      "cell_type": "code",
      "source": [
        "pipeline_run_with_params = experiment.submit(pipeline, \\\r\n",
        "        pipeline_parameters={'minute_param':'08'})\r\n"
      ],
      "outputs": [],
      "execution_count": null,
      "metadata": {
        "jupyter": {
          "source_hidden": false,
          "outputs_hidden": false
        },
        "nteract": {
          "transient": {
            "deleting": false
          }
        },
        "gather": {
          "logged": 1631158040630
        }
      }
    }
  ],
  "metadata": {
    "kernelspec": {
      "name": "python3-azureml",
      "language": "python",
      "display_name": "Python 3.6 - AzureML"
    },
    "language_info": {
      "name": "python",
      "version": "3.6.9",
      "mimetype": "text/x-python",
      "codemirror_mode": {
        "name": "ipython",
        "version": 3
      },
      "pygments_lexer": "ipython3",
      "nbconvert_exporter": "python",
      "file_extension": ".py"
    },
    "kernel_info": {
      "name": "python3-azureml"
    },
    "microsoft": {
      "host": {
        "AzureML": {
          "notebookHasBeenCompleted": true
        }
      }
    },
    "nteract": {
      "version": "nteract-front-end@1.0.0"
    }
  },
  "nbformat": 4,
  "nbformat_minor": 2
}