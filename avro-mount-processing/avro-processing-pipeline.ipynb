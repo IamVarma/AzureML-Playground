{
  "cells": [
    {
      "cell_type": "code",
      "source": [
        "#!pip install --upgrade azureml-sdk azureml-dataprep matplotlib"
      ],
      "outputs": [],
      "execution_count": null,
      "metadata": {}
    },
    {
      "cell_type": "code",
      "source": [
        "#Get AzureML Workspace config\r\n",
        "import azureml.core\r\n",
        "from azureml.core import Workspace, Experiment,Dataset\r\n",
        "from azureml.core.compute import ComputeTarget, AmlCompute\r\n",
        "from azureml.data.datapath import DataPath, DataPathComputeBinding\r\n",
        "\r\n",
        "from azureml.pipeline.core import PipelineParameter\r\n",
        "from azureml.pipeline.core import Pipeline, PipelineRun\r\n",
        "from azureml.pipeline.steps import PythonScriptStep\r\n"
      ],
      "outputs": [],
      "execution_count": 17,
      "metadata": {
        "jupyter": {
          "source_hidden": false,
          "outputs_hidden": false
        },
        "nteract": {
          "transient": {
            "deleting": false
          }
        },
        "gather": {
          "logged": 1631117323688
        }
      }
    },
    {
      "cell_type": "code",
      "source": [
        "workspace = Workspace.from_config()\r\n",
        "#print(workspace)"
      ],
      "outputs": [],
      "execution_count": 34,
      "metadata": {
        "jupyter": {
          "source_hidden": false,
          "outputs_hidden": false
        },
        "nteract": {
          "transient": {
            "deleting": false
          }
        },
        "gather": {
          "logged": 1631160132055
        }
      }
    },
    {
      "cell_type": "code",
      "source": [
        "#Avro files location pre-registered as a files dataset. Ensure the dataset path is of the format folder/** to pick up all partitions and folders inside.\r\n",
        "dataset_name=\"eventhub-capture-avro\"\r\n",
        "dataset = Dataset.get_by_name(workspace, name=dataset_name)\r\n",
        "print(dataset.name)"
      ],
      "outputs": [
        {
          "output_type": "stream",
          "name": "stdout",
          "text": "eventhub-capture-avro\n"
        }
      ],
      "execution_count": 4,
      "metadata": {
        "jupyter": {
          "source_hidden": false,
          "outputs_hidden": false
        },
        "nteract": {
          "transient": {
            "deleting": false
          }
        },
        "gather": {
          "logged": 1631112277354
        }
      }
    },
    {
      "cell_type": "code",
      "source": [
        "# Choose a name for your cluster.\r\n",
        "amlcompute_cluster_name = \"cpucluster\"\r\n",
        "\r\n",
        "found = False\r\n",
        "# Check if this compute target already exists in the workspace.\r\n",
        "cts = workspace.compute_targets\r\n",
        "if amlcompute_cluster_name in cts and cts[amlcompute_cluster_name].type == 'AmlCompute':\r\n",
        "    found = True\r\n",
        "    print('Found existing compute target.')\r\n",
        "    compute_target = cts[amlcompute_cluster_name]\r\n",
        "    \r\n",
        "if not found:\r\n",
        "    print('Creating a new compute target...')\r\n",
        "    provisioning_config = AmlCompute.provisioning_configuration(vm_size = \"STANDARD_D2_V2\", # for GPU, use \"STANDARD_NC6\"\r\n",
        "                                                                #vm_priority = 'lowpriority', # optional\r\n",
        "                                                                max_nodes = 1)\r\n",
        "\r\n",
        "    # Create the cluster.\r\n",
        "    compute_target = ComputeTarget.create(workspace, amlcompute_cluster_name, provisioning_config)\r\n",
        "    \r\n",
        "    # Can poll for a minimum number of nodes and for a specific timeout.\r\n",
        "    # If no min_node_count is provided, it will use the scale settings for the cluster.\r\n",
        "    compute_target.wait_for_completion(show_output = True, timeout_in_minutes = 10)"
      ],
      "outputs": [
        {
          "output_type": "stream",
          "name": "stdout",
          "text": "Found existing compute target.\n"
        }
      ],
      "execution_count": 5,
      "metadata": {
        "jupyter": {
          "source_hidden": false,
          "outputs_hidden": false
        },
        "nteract": {
          "transient": {
            "deleting": false
          }
        },
        "gather": {
          "logged": 1631112281278
        }
      }
    },
    {
      "cell_type": "code",
      "source": [
        "# Choose a name for the run history container in the workspace.\r\n",
        "experiment_name = 'avro-test-pipeline'\r\n",
        "source_directory  = '.'\r\n",
        "\r\n",
        "experiment = Experiment(workspace, experiment_name)\r\n",
        "experiment"
      ],
      "outputs": [
        {
          "output_type": "execute_result",
          "execution_count": 6,
          "data": {
            "text/plain": "Experiment(Name: avro-test-pipeline,\nWorkspace: shadowmlworkspace)",
            "text/html": "<table style=\"width:100%\"><tr><th>Name</th><th>Workspace</th><th>Report Page</th><th>Docs Page</th></tr><tr><td>avro-test-pipeline</td><td>shadowmlworkspace</td><td><a href=\"https://ml.azure.com/experiments/id/54a3a7bd-8ad7-483b-9e25-9139f0dc4d44?wsid=/subscriptions/25758354-2fe7-426a-be0e-1ad20058340d/resourcegroups/azuremlservices/workspaces/shadowmlworkspace&amp;tid=72f988bf-86f1-41af-91ab-2d7cd011db47\" target=\"_blank\" rel=\"noopener\">Link to Azure Machine Learning studio</a></td><td><a href=\"https://docs.microsoft.com/en-us/python/api/azureml-core/azureml.core.experiment.Experiment?view=azure-ml-py\" target=\"_blank\" rel=\"noopener\">Link to Documentation</a></td></tr></table>"
          },
          "metadata": {}
        }
      ],
      "execution_count": 6,
      "metadata": {
        "jupyter": {
          "source_hidden": false,
          "outputs_hidden": false
        },
        "nteract": {
          "transient": {
            "deleting": false
          }
        },
        "gather": {
          "logged": 1631112938452
        }
      }
    },
    {
      "cell_type": "code",
      "source": [
        "%%writefile conda_env.yaml\r\n",
        "# Packages should have explicit versions \r\n",
        "# For demo purposes we let them loose\r\n",
        "# Also note the azureml-defaults package mentioned in  https://docs.microsoft.com/en-us/azure/machine-learning/concept-environments#types-of-environments\r\n",
        "name: custom-env\r\n",
        "dependencies:\r\n",
        "  - python=3.6\r\n",
        "  - scikit-learn\r\n",
        "  - pip\r\n",
        "  - pip:\r\n",
        "    - azureml-defaults\r\n",
        "    - pandas\r\n",
        "    - fastavro"
      ],
      "outputs": [
        {
          "output_type": "stream",
          "name": "stdout",
          "text": "Writing conda_env.yaml\n"
        }
      ],
      "execution_count": 10,
      "metadata": {
        "jupyter": {
          "source_hidden": false,
          "outputs_hidden": false
        },
        "nteract": {
          "transient": {
            "deleting": false
          }
        }
      }
    },
    {
      "cell_type": "code",
      "source": [
        "from azureml.core import Environment\r\n",
        "from azureml.core.runconfig import RunConfiguration\r\n",
        "\r\n",
        "# Create an environment from the conda dependencies\r\n",
        "run_env = Environment.from_conda_specification(\"run-environment\",  'conda_env.yaml')\r\n",
        "# Create a run config that we will use in our steps\r\n",
        "run_config = RunConfiguration()\r\n",
        "run_config.environment = run_env"
      ],
      "outputs": [],
      "execution_count": 11,
      "metadata": {
        "jupyter": {
          "source_hidden": false,
          "outputs_hidden": false
        },
        "nteract": {
          "transient": {
            "deleting": false
          }
        },
        "gather": {
          "logged": 1631115306968
        }
      }
    },
    {
      "cell_type": "code",
      "source": [
        "#Define Pipeline Parameter\r\n",
        "minute_pipeline_param = PipelineParameter(name=\"minute_param\", default_value='07')"
      ],
      "outputs": [],
      "execution_count": 27,
      "metadata": {
        "jupyter": {
          "source_hidden": false,
          "outputs_hidden": false
        },
        "nteract": {
          "transient": {
            "deleting": false
          }
        },
        "gather": {
          "logged": 1631157800182
        }
      }
    },
    {
      "cell_type": "code",
      "source": [
        "process_avro_step = PythonScriptStep(\r\n",
        "    name='process_avro_step',\r\n",
        "    script_name=\"avro-mount-script.py\",\r\n",
        "    arguments=[\"--minute\", minute_pipeline_param],\r\n",
        "    inputs=[dataset.as_named_input('input_dataset')],\r\n",
        "    compute_target=compute_target, \r\n",
        "    source_directory=source_directory,\r\n",
        "    runconfig = run_config)\r\n",
        "print(\"process_avro_step created\")\r\n",
        "\r\n",
        "pipeline = Pipeline(workspace=workspace, steps=[process_avro_step])\r\n",
        "print(\"pipeline with the process_avro_step created\")"
      ],
      "outputs": [
        {
          "output_type": "stream",
          "name": "stdout",
          "text": "process_avro_step created\npipeline with the process_avro_step created\n"
        }
      ],
      "execution_count": 30,
      "metadata": {
        "jupyter": {
          "source_hidden": false,
          "outputs_hidden": false
        },
        "nteract": {
          "transient": {
            "deleting": false
          }
        },
        "gather": {
          "logged": 1631157869916
        }
      }
    },
    {
      "cell_type": "code",
      "source": [
        "pipeline_run = experiment.submit(pipeline)\r\n",
        "print(\"Pipeline is submitted for execution\")"
      ],
      "outputs": [
        {
          "output_type": "stream",
          "name": "stdout",
          "text": "Created step process_avro_step [87affc42][98e31980-2810-454b-8d48-8241f60ecadb], (This step will run and generate new outputs)\nSubmitted PipelineRun dd2d0e9c-bf35-4601-bf4e-6fdd9711091f\nLink to Azure Machine Learning Portal: https://ml.azure.com/runs/dd2d0e9c-bf35-4601-bf4e-6fdd9711091f?wsid=/subscriptions/25758354-2fe7-426a-be0e-1ad20058340d/resourcegroups/azuremlservices/workspaces/shadowmlworkspace&tid=72f988bf-86f1-41af-91ab-2d7cd011db47\nPipeline is submitted for execution\n"
        }
      ],
      "execution_count": 31,
      "metadata": {
        "jupyter": {
          "source_hidden": false,
          "outputs_hidden": false
        },
        "nteract": {
          "transient": {
            "deleting": false
          }
        },
        "gather": {
          "logged": 1631157883300
        }
      }
    },
    {
      "cell_type": "code",
      "source": [
        "pipeline_run_with_params = experiment.submit(pipeline, \\\r\n",
        "        pipeline_parameters={'minute_param':'08'})\r\n"
      ],
      "outputs": [
        {
          "output_type": "stream",
          "name": "stdout",
          "text": "Submitted PipelineRun 2efdeeba-8521-4f81-8d22-4958a032c8d3\nLink to Azure Machine Learning Portal: https://ml.azure.com/runs/2efdeeba-8521-4f81-8d22-4958a032c8d3?wsid=/subscriptions/25758354-2fe7-426a-be0e-1ad20058340d/resourcegroups/azuremlservices/workspaces/shadowmlworkspace&tid=72f988bf-86f1-41af-91ab-2d7cd011db47\n"
        }
      ],
      "execution_count": 33,
      "metadata": {
        "jupyter": {
          "source_hidden": false,
          "outputs_hidden": false
        },
        "nteract": {
          "transient": {
            "deleting": false
          }
        },
        "gather": {
          "logged": 1631158040630
        }
      }
    }
  ],
  "metadata": {
    "kernelspec": {
      "name": "python3-azureml",
      "language": "python",
      "display_name": "Python 3.6 - AzureML"
    },
    "language_info": {
      "name": "python",
      "version": "3.6.9",
      "mimetype": "text/x-python",
      "codemirror_mode": {
        "name": "ipython",
        "version": 3
      },
      "pygments_lexer": "ipython3",
      "nbconvert_exporter": "python",
      "file_extension": ".py"
    },
    "kernel_info": {
      "name": "python3-azureml"
    },
    "microsoft": {
      "host": {
        "AzureML": {
          "notebookHasBeenCompleted": true
        }
      }
    },
    "nteract": {
      "version": "nteract-front-end@1.0.0"
    }
  },
  "nbformat": 4,
  "nbformat_minor": 2
}